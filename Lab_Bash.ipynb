{
  "cells": [
    {
      "cell_type": "code",
      "execution_count": null,
      "id": "fbe53f06",
      "metadata": {
        "id": "fbe53f06"
      },
      "outputs": [],
      "source": [
        "#LAB - BASH"
      ]
    },
    {
      "cell_type": "code",
      "execution_count": null,
      "id": "d303520a",
      "metadata": {
        "id": "d303520a"
      },
      "outputs": [],
      "source": [
        "#Exercises"
      ]
    },
    {
      "cell_type": "code",
      "execution_count": null,
      "id": "7bf68ad0",
      "metadata": {
        "id": "7bf68ad0"
      },
      "outputs": [],
      "source": [
        "#Create a new directory called new_dir.\n",
        "#$ mkdir new_dir\n",
        "\n",
        "#Delete/Remove the directory new_dir.\n",
        "#$ rm -r new_dir\n",
        "\n",
        "#Copy the file sed.txt from the lorem folder and paste it to the folder lorem-copy folder.\n",
        "#$ cd sed.txt lorem-copy folder\n",
        "\n",
        "#Copy the other two files from the lorem folder to lorem-copy folder in just one line using semicolon ;.\n",
        "#$ cd lorem.txt ; at.txt -copy folder\n",
        "\n",
        "#Show the sed.txt file content from the lorem folder.\n",
        "#$ ls lorem folder\n",
        "#$ cat sed.txt\n",
        "\n",
        "#Show the at.txt file and lorem.txt file contents from lorem folder.\n",
        "#$ cat  at.txt\n",
        "#$ cat  lorem.txt \n",
        "\n",
        "#Print the first 3 rows in sed.txt file from lorem-copy folder.\n",
        "# ~/lorem-copy folder\n",
        "#$ head -n 3 sed.txt \n",
        "\n",
        "#Print the last 3 rows in sed.txt file from lorem-copy folder.\n",
        "#~/lorem-copy folder\n",
        "#$ tail -n 3 sed.txt \n",
        "\n",
        "#Add Homo homini lupus. at the end of sed.txt file in the lorem-copy folder.\n",
        "#~/lorem-copy folder\n",
        "#$ vim  sed.txt\n",
        "#i (para insertar texto)\n",
        "#Add Homo homini lupus.\n",
        "\n",
        "#Print the last 3 rows in sed.txt file from lorem-copy folder. You should see Homo homini lupus..\n",
        "#~/lorem-copy folder\n",
        "#$ tail -n 3 sed.txt \n",
        "\n",
        "#\"sed command is used to replace the text in a file. \n",
        "#Use the sed command to replace all occurances of \n",
        "#et with ET \n",
        "#in the file at.txt file present in the folder lorem. \n",
        "#You can use the following link to refer to sed commands \"\n",
        "#$sed -i 's/et/ET/ g' at.txt\n",
        "\n",
        "#Find who is the system user.\n",
        "#$ whoami\n",
        "\n",
        "#Find the current path of the directory you are in.\n",
        "#$ pwd\n",
        "\n",
        "#List all files with the extension .txt in lorem folder.\n",
        "#find /lorem folder *.txt\n",
        "\n",
        "#\"Count the rows in sed.txt file from lorem folder. \n",
        "#Look concatenate cat and wc with the pipe |.\"\n",
        "#$ cat /lorem folder/sed.txt | wc -l\n",
        "\n",
        "#Count the files which start with lorem in all directories.\n",
        "#ls testfileslorem* | wc -l\n",
        "\n",
        "#Bonus\n",
        "\n",
        "#Store your name in a variable with read command.\n",
        "#$read input claudia\n",
        "#Print that variable.\n",
        "#$ echo input claudia\n",
        "\n",
        "#Create a new directory named with variable name.\n",
        "#$ mkdir claudia\n",
        "\n",
        "#Remove that directory.\n",
        "#$ rm -r claudia"
      ]
    }
  ],
  "metadata": {
    "kernelspec": {
      "display_name": "Python 3 (ipykernel)",
      "language": "python",
      "name": "python3"
    },
    "language_info": {
      "codemirror_mode": {
        "name": "ipython",
        "version": 3
      },
      "file_extension": ".py",
      "mimetype": "text/x-python",
      "name": "python",
      "nbconvert_exporter": "python",
      "pygments_lexer": "ipython3",
      "version": "3.9.16"
    },
    "colab": {
      "provenance": []
    }
  },
  "nbformat": 4,
  "nbformat_minor": 5
}